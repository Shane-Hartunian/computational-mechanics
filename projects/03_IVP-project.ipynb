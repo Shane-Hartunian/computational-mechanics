{
 "cells": [
  {
   "cell_type": "markdown",
   "id": "b40d9ecb",
   "metadata": {},
   "source": [
    "# Project_03 - Engineering Design of rocket flights\n",
    "\n",
    "![Initial condition of firework with FBD and sum of momentum](../images/firework.png)"
   ]
  },
  {
   "cell_type": "markdown",
   "id": "cabf3983",
   "metadata": {},
   "source": [
    "You are going to end this module with a __bang__ by looking at the\n",
    "flight path of a firework. Shown above is the initial condition of a\n",
    "firework, the _Freedom Flyer_ in (a), its final height where it\n",
    "detonates in (b), the applied forces in the __Free Body Diagram (FBD)__\n",
    "in (c), and the __momentum__ of the firework $m\\mathbf{v}$ and the\n",
    "propellent $dm \\mathbf{u}$ in (d). \n",
    "\n",
    "The resulting equation of motion is that the acceleration is\n",
    "proportional to the speed of the propellent and the mass rate change\n",
    "$\\frac{dm}{dt}$ as such\n",
    "\n",
    "$$\\begin{equation}\n",
    "m\\frac{dv}{dt} = u\\frac{dm}{dt} -mg - cv^2.~~~~~~~~(1)\n",
    "\\end{equation}$$\n",
    "\n",
    "If you assume that the acceleration and the propellent momentum are much\n",
    "greater than the forces of gravity and drag, then the equation is\n",
    "simplified to the conservation of momentum. A further simplification is\n",
    "that the speed of the propellant is constant, $u=constant$, then the\n",
    "equation can be integrated to obtain an analytical rocket equation\n",
    "solution of [Tsiolkovsky](https://www.math24.net/rocket-motion/) [1,2], \n",
    "\n",
    "$$\\begin{equation}\n",
    "m\\frac{dv}{dt} = u\\frac{dm}{dt}~~~~~(2.a)\n",
    "\\end{equation}$$\n",
    "\n",
    "$$\\begin{equation}\n",
    "\\frac{m_{f}}{m_{0}}=e^{-\\Delta v / u},~~~~~(2.b) \n",
    "\\end{equation}$$\n",
    "\n",
    "where $m_f$ and $m_0$ are the mass at beginning and end of flight, $u$\n",
    "is the speed of the propellent, and $\\Delta v=v_{final}-v_{initial}$ is\n",
    "the change in speed of the rocket from beginning to end of flight.\n",
    "Equation 2.b only relates the final velocity to the change in mass and\n",
    "propellent speed. When you integrate Eqn 2.a, you will have to compare\n",
    "the velocity as a function of mass loss. \n",
    "\n",
    "Your first objective is to integrate a numerical model that converges to\n",
    "equation (2.b), the Tsiolkovsky equation. Next, you will add drag and\n",
    "gravity and compare the results _between equations (1) and (2)_.\n",
    "Finally, you will vary the mass change rate to achieve the desired\n",
    "detonation height."
   ]
  },
  {
   "cell_type": "markdown",
   "id": "646fbafb",
   "metadata": {},
   "source": [
    "__1.__ Create a `simplerocket` function that returns the velocity, $v$,\n",
    "the acceleration, $a$, and the mass rate change $\\frac{dm}{dt}$, as a\n",
    "function of the $state = [position,~velocity,~mass] = [y,~v,~m]$ using\n",
    "eqn (2.a). Where the mass rate change $\\frac{dm}{dt}$ and the propellent\n",
    "speed $u$ are constants. The average velocity of gun powder propellent\n",
    "used in firework rockets is $u=250$ m/s [3,4]. \n",
    "\n",
    "$\\frac{d~state}{dt} = f(state)$\n",
    "\n",
    "$\\left[\\begin{array}{c} v\\\\a\\\\ \\frac{dm}{dt} \\end{array}\\right] = \\left[\\begin{array}{c} v\\\\ \\frac{u}{m}\\frac{dm}{dt} \\\\ \\frac{dm}{dt} \\end{array}\\right]$\n",
    "\n",
    "Use [an integration method](../module_03/03_Get_Oscillations) to\n",
    "integrate the `simplerocket` function. Demonstrate that your solution\n",
    "converges to equation (2.b) the Tsiolkovsky equation. Use an initial\n",
    "state of y=0 m, v=0 m/s, and m=0.25 kg. \n",
    "\n",
    "Integrate the function until mass, $m_{f}=0.05~kg$, using a mass rate change of $\\frac{dm}{dt}=0.05$ kg/s. \n",
    "\n",
    "> __Hint__: your integrated solution will have a current mass that you can\n",
    "> use to create $\\frac{m_{f}}{m_{0}}$ by dividing state[2]/(initial mass),\n",
    "> then your plot of velocity(t) vs mass(t)/mass(0) should match\n",
    "> Tsiolkovsky's\n",
    "> \n",
    "> $\\log\\left(\\frac{m_{f}}{m_{0}}\\right) =\n",
    "> \\log\\left(\\frac{state[2]}{0.25~kg}\\right) \n",
    "> = \\frac{state[1]}{250~m/s} = \\frac{-\\Delta v+error}{u}$ \n",
    "> where $error$ is the difference between your integrated state variable\n",
    "> and the Tsiolkovsky analytical value."
   ]
  },
  {
   "cell_type": "code",
   "execution_count": 1,
   "id": "eaecfe30",
   "metadata": {
    "ExecuteTime": {
     "end_time": "2025-06-25T02:29:18.760259Z",
     "start_time": "2025-06-25T02:29:18.258951Z"
    }
   },
   "outputs": [],
   "source": [
    "import numpy as np\n",
    "import matplotlib.pyplot as plt\n",
    "plt.style.use('fivethirtyeight')"
   ]
  },
  {
   "cell_type": "code",
   "execution_count": 2,
   "id": "9b5d46c0",
   "metadata": {
    "ExecuteTime": {
     "end_time": "2025-06-25T02:29:18.767575Z",
     "start_time": "2025-06-25T02:29:18.763223Z"
    }
   },
   "outputs": [],
   "source": [
    "def simplerocket(state,dmdt=0.05, u=250):\n",
    "    '''Computes the right-hand side of the differential equation\n",
    "    for the acceleration of a rocket, without drag or gravity, in SI units.\n",
    "    \n",
    "    Arguments\n",
    "    ----------    \n",
    "    state : array of three dependent variables [y v m]^T\n",
    "    dmdt : mass rate change of rocket in kilograms/s default set to 0.05 kg/s\n",
    "    u    : speed of propellent expelled (default is 250 m/s)\n",
    "    \n",
    "    Returns\n",
    "    -------\n",
    "    derivs: array of three derivatives [v u/m*dmdt -dmdt]^T\n",
    "    '''\n",
    "    \n",
    "    #dstate = np.zeros(np.shape(state))\n",
    "    # your work\n",
    "    dstate = np.array([state[1], (u/state[2])*dmdt, -dmdt])\n",
    "    return dstate"
   ]
  },
  {
   "cell_type": "markdown",
   "id": "acb38bb7",
   "metadata": {},
   "source": [
    "I will use the second order convergence of the modified euler integration method (ie Runge-Kutta)"
   ]
  },
  {
   "cell_type": "code",
   "execution_count": 3,
   "id": "e92fa2cb",
   "metadata": {
    "ExecuteTime": {
     "end_time": "2025-06-25T02:29:18.781866Z",
     "start_time": "2025-06-25T02:29:18.770031Z"
    }
   },
   "outputs": [],
   "source": [
    "#From the lecture readings\n",
    "def rk2_step(state, rhs, dt):\n",
    "    '''Update a state to the next time increment using \n",
    "    modified Euler's method.\n",
    "    \n",
    "    Arguments\n",
    "    ---------\n",
    "    state : array of dependent variables\n",
    "    rhs   : function that computes the RHS of the DiffEq\n",
    "    dt    : float, time increment\n",
    "    \n",
    "    Returns\n",
    "    -------\n",
    "    next_state : array, updated after one time increment'''\n",
    "    \n",
    "    mid_state = state + rhs(state) * dt*0.5    \n",
    "    next_state = state + rhs(mid_state)*dt\n",
    " \n",
    "    return next_state"
   ]
  },
  {
   "cell_type": "code",
   "execution_count": 4,
   "id": "c05ed46a",
   "metadata": {
    "ExecuteTime": {
     "end_time": "2025-06-25T02:29:19.623305Z",
     "start_time": "2025-06-25T02:29:18.784423Z"
    }
   },
   "outputs": [
    {
     "data": {
      "image/png": "[encoded data removed]",
      "text/plain": [
       "<Figure size 576x576 with 2 Axes>"
      ]
     },
     "metadata": {},
     "output_type": "display_data"
    }
   ],
   "source": [
    "N = 500\n",
    "m0=0.25\n",
    "mf=0.05\n",
    "dm=0.05\n",
    "t = np.linspace(0,(m0-mf)/dm,N)\n",
    "dt=t[1]-t[0]\n",
    "\n",
    "y0 = 0\n",
    "v0 = 0\n",
    "m0 = 0.25\n",
    "u = 250 \n",
    "\n",
    "#Initialize\n",
    "simple_sol = np.zeros([N,3])\n",
    "\n",
    "#Initial Conditions\n",
    "simple_sol[0,0] = y0\n",
    "simple_sol[0,1] = v0\n",
    "simple_sol[0,2] = m0\n",
    "\n",
    "#perform integration\n",
    "for i in range(N-1):\n",
    "        simple_sol[i+1] = rk2_step(simple_sol[i], simplerocket, dt)\n",
    "\n",
    "\n",
    "delv = simple_sol[:,1] - simple_sol[0,1]\n",
    "error = np.exp(-delv/u) - (simple_sol[:,2]/m0)\n",
    "\n",
    "fig = plt.figure(figsize=(8,8))\n",
    "plt.subplot(211)\n",
    "plt.plot(simple_sol[:,1], simple_sol[:,2]/simple_sol[0,2], '--', \n",
    "         label='numerical solution')\n",
    "plt.plot(simple_sol[:,1], np.exp(-delv / u), \n",
    "         alpha=0.5, label='analytical solution')\n",
    "plt.ylabel(r'$\\frac{mass_f}{mass_0}$')\n",
    "plt.legend()\n",
    "\n",
    "plt.subplot(212)\n",
    "plt.semilogy(simple_sol[:,1], error, '--', label = 'difference')\n",
    "plt.xlabel('velocity [m/s]')\n",
    "plt.ylabel(r'$log(\\frac{mass_f}{mass_0})$')\n",
    "plt.legend()\n",
    "plt.show()"
   ]
  },
  {
   "cell_type": "markdown",
   "id": "2ab2f589",
   "metadata": {},
   "source": [
    "As you can see from the two plots above, the Tsiolkovsky equation seems like it converges with the analytical solution and the error remains very small, therefore its fair to say that the integration converges."
   ]
  },
  {
   "cell_type": "markdown",
   "id": "3eaea8e3",
   "metadata": {},
   "source": [
    "__2.__ You should have a converged solution for integrating `simplerocket`. Now, create a more relastic function, `rocket` that incorporates gravity and drag and returns the velocity, $v$, the acceleration, $a$, and the mass rate change $\\frac{dm}{dt}$, as a function of the $state = [position,~velocity,~mass] = [y,~v,~m]$ using eqn (1). Where the mass rate change $\\frac{dm}{dt}$ and the propellent speed $u$ are constants. The average velocity of gun powder propellent used in firework rockets is $u=250$ m/s [3,4]. \n",
    "\n",
    "$\\frac{d~state}{dt} = f(state)$\n",
    "\n",
    "$\\left[\\begin{array}{c} v\\\\a\\\\ \\frac{dm}{dt} \\end{array}\\right] = \n",
    "\\left[\\begin{array}{c} v\\\\ \\frac{u}{m}\\frac{dm}{dt}-g-\\frac{c}{m}v^2 \\\\ \\frac{dm}{dt} \\end{array}\\right]$\n",
    "\n",
    "Use [two integration methods](../notebooks/03_Get_Oscillations.ipynb) to integrate the `rocket` function, one explicit method and one implicit method. Demonstrate that the solutions converge to equation (2.b) the Tsiolkovsky equation. Use an initial state of y=0 m, v=0 m/s, and m=0.25 kg. \n",
    "\n",
    "Integrate the function until mass, $m_{f}=0.05~kg$, using a mass rate change of $\\frac{dm}{dt}=0.05$ kg/s, . \n",
    "\n",
    "Compare solutions between the `simplerocket` and `rocket` integration, what is the height reached when the mass reaches $m_{f} = 0.05~kg?$"
   ]
  },
  {
   "cell_type": "code",
   "execution_count": 5,
   "id": "25024ae2",
   "metadata": {
    "ExecuteTime": {
     "end_time": "2025-06-25T02:29:19.631360Z",
     "start_time": "2025-06-25T02:29:19.625986Z"
    }
   },
   "outputs": [],
   "source": [
    "def rocket(state,dmdt=0.05, u=250,c=0.18e-3):\n",
    "    '''Computes the right-hand side of the differential equation\n",
    "    for the acceleration of a rocket, with drag, in SI units.\n",
    "    \n",
    "    Arguments\n",
    "    ----------    \n",
    "    state : array of three dependent variables [y v m]^T\n",
    "    dmdt : mass rate change of rocket in kilograms/s default set to 0.05 kg/s\n",
    "    u    : speed of propellent expelled (default is 250 m/s)\n",
    "    c : drag constant for a rocket set to 0.18e-3 kg/m\n",
    "    Returns\n",
    "    -------\n",
    "    derivs: array of three derivatives [v (u/m*dmdt-g-c/mv^2) -dmdt]^T\n",
    "    '''\n",
    "    g=9.81\n",
    "    #dstate = np.zeros(np.shape(state))\n",
    "    # your work\n",
    "    dstate = np.array([state[1], \n",
    "                       (u/state[2])*dmdt - g - (c/state[2])*(state[1]**2), \n",
    "                       -dmdt])\n",
    "    \n",
    "    return dstate"
   ]
  },
  {
   "cell_type": "markdown",
   "id": "b99ffc68",
   "metadata": {},
   "source": [
    "I will use the **modified euler exlicit integration** method and then the **Heun's implicit integration** method to see how they compare."
   ]
  },
  {
   "cell_type": "code",
   "execution_count": 6,
   "id": "957bcb31",
   "metadata": {
    "ExecuteTime": {
     "end_time": "2025-06-25T02:29:19.647262Z",
     "start_time": "2025-06-25T02:29:19.633598Z"
    }
   },
   "outputs": [],
   "source": [
    "#From the lecture readings\n",
    "def heun_step(state,rhs,dt,etol=0.000001,maxiters = 100):\n",
    "    '''Update a state to the next time increment using the \n",
    "    implicit Heun's method.\n",
    "    \n",
    "    Arguments\n",
    "    ---------\n",
    "    state : array of dependent variables\n",
    "    rhs   : function that computes the RHS of the DiffEq\n",
    "    dt    : float, time increment\n",
    "    etol  : tolerance in error for each time step corrector\n",
    "    maxiters: maximum number of iterations each time step can take\n",
    "    \n",
    "    Returns\n",
    "    -------\n",
    "    next_state : array, updated after one time increment'''\n",
    "    e=1\n",
    "    eps=np.finfo('float64').eps\n",
    "    next_state = state + rhs(state)*dt\n",
    "    ################### New iterative correction #########################\n",
    "    for n in range(0,maxiters):\n",
    "        next_state_old = next_state\n",
    "        next_state = state + (rhs(state)+rhs(next_state))/2*dt\n",
    "        e=np.sum(np.abs(next_state-next_state_old)/np.abs(next_state+eps))\n",
    "        if e<etol:\n",
    "            break\n",
    "    ############### end of iterative correction #########################\n",
    "    return next_state\n",
    "\n",
    "def get_error(num_sol, u=250):\n",
    "    \n",
    "    error = np.zeros(len(num_sol[0]))\n",
    "    for i in range(len(num_sol[0])):\n",
    "        delv = num_sol[i][-1,1] - num_sol[i][0,1]\n",
    "        x_an = np.exp(-delv / u) # analytical solution at final time\n",
    "    \n",
    "        error[i] =  np.abs(num_sol[i][-1,2] - x_an)\n",
    "    \n",
    "    return error"
   ]
  },
  {
   "cell_type": "code",
   "execution_count": 7,
   "id": "e2e71f6a",
   "metadata": {
    "ExecuteTime": {
     "end_time": "2025-06-25T02:29:20.061821Z",
     "start_time": "2025-06-25T02:29:19.649773Z"
    }
   },
   "outputs": [
    {
     "name": "stdout",
     "output_type": "stream",
     "text": [
      "227.5244999341575\n",
      "227.52443307971967\n"
     ]
    },
    {
     "data": {
      "image/png": "[encoded data removed]",
      "text/plain": [
       "<Figure size 576x576 with 2 Axes>"
      ]
     },
     "metadata": {},
     "output_type": "display_data"
    }
   ],
   "source": [
    "def integration(tstep=1):\n",
    "    \n",
    "    N=500\n",
    "    m0=0.25\n",
    "    mf=0.05\n",
    "    dm=0.05\n",
    "    t = np.linspace(0,(m0-mf)/dm,N)\n",
    "    dt=t[1]-t[0]\n",
    "    dt=dt/tstep\n",
    "\n",
    "    y0 = 0\n",
    "    v0 = 0\n",
    "    m0 = 0.25\n",
    "    u = 250 \n",
    "\n",
    "    #Initialize\n",
    "    explicit_rk2 = np.zeros([N,3])\n",
    "    implicit_heun = np.zeros([N,3])\n",
    "\n",
    "    #Initial Conditions\n",
    "    explicit_rk2[0,0] = y0\n",
    "    explicit_rk2[0,1] = v0\n",
    "    explicit_rk2[0,2] = m0\n",
    "\n",
    "    implicit_heun[0,0] = y0\n",
    "    implicit_heun[0,1] = v0\n",
    "    implicit_heun[0,2] = m0\n",
    "\n",
    "    #perform integration\n",
    "    for i in range(N-1):\n",
    "        next_rk2 = rk2_step(explicit_rk2[i], rocket, dt)\n",
    "        next_heun = heun_step(implicit_heun[i], rocket, dt)\n",
    "\n",
    "        # Stop if mass has reached or dropped below 0.05 kg\n",
    "        if next_rk2[2] <= 0.05 or next_heun[2] <= 0.05:\n",
    "            explicit_rk2[i+1] = next_rk2\n",
    "            implicit_heun[i+1] = next_heun\n",
    "            break\n",
    "\n",
    "        explicit_rk2[i+1] = next_rk2\n",
    "        implicit_heun[i+1] = next_heun\n",
    "\n",
    "    \n",
    "    return np.array([explicit_rk2, implicit_heun])\n",
    "##############################################################################\n",
    "\n",
    "explicit_rk2 = integration()[0]\n",
    "implicit_heun = integration()[1]\n",
    "print(explicit_rk2[-1,1])\n",
    "print(implicit_heun[-1,1])\n",
    "\n",
    "delv_e = explicit_rk2[:,1] - explicit_rk2[0,1]\n",
    "delv_i = implicit_heun[:,1] - implicit_heun[0,1]        \n",
    "\n",
    "fig = plt.figure(figsize=(8,8))\n",
    "plt.subplot(211)\n",
    "plt.plot(explicit_rk2[:,1], explicit_rk2[:,2], 'r--', \n",
    "         label='explicit rk2')\n",
    "plt.plot(explicit_rk2[:,1], np.exp(-delv_e / 250), \n",
    "         alpha=0.5, label='analytical solution')\n",
    "\n",
    "plt.ylabel(r'$\\frac{mass_f}{mass_0}$')\n",
    "plt.legend()\n",
    "\n",
    "plt.subplot(212)\n",
    "plt.plot(implicit_heun[:,1], implicit_heun[:,2], 'g--', \n",
    "         label='implicit heun')\n",
    "plt.plot(implicit_heun[:,1], np.exp(-delv_i / 250), \n",
    "         alpha=0.5, label='analytical solution')\n",
    "\n",
    "plt.xlabel('velocity [m/s]')\n",
    "plt.ylabel(r'$\\frac{mass_f}{mass_0}$')\n",
    "plt.legend()\n",
    "plt.show()"
   ]
  },
  {
   "cell_type": "code",
   "execution_count": 8,
   "id": "607e3fd8",
   "metadata": {
    "ExecuteTime": {
     "end_time": "2025-06-25T02:29:21.177715Z",
     "start_time": "2025-06-25T02:29:20.065853Z"
    }
   },
   "outputs": [
    {
     "name": "stdout",
     "output_type": "stream",
     "text": [
      "[227.52449993 101.59198702  62.97826573  45.42458783  35.47795729\n",
      "  29.09047228  24.64638932  21.3775718   18.87296238  16.89294765]\n",
      "[227.52443308 101.59198088  62.97826572  45.42458812  35.47795751\n",
      "  29.09047244  24.64638943  21.37757188  18.87296244  16.8929477 ]\n",
      "402.3594781085251\n"
     ]
    }
   ],
   "source": [
    "#extract final velocities and compare to the Tsiolkovsky equation\n",
    "tstep = [1,2,3,4,5,6,7,8,9,10]\n",
    "final_v_e = np.zeros([len(tstep)])\n",
    "final_v_i = np.zeros([len(tstep)])\n",
    "\n",
    "for i in range(len(tstep)):\n",
    "    e_rk2 = integration(tstep[i])[0]\n",
    "    i_heun = integration(tstep[i])[1]\n",
    "    final_v_e[i] = e_rk2[-1,1]\n",
    "    final_v_i[i] = i_heun[-1,1]\n",
    "\n",
    "print(final_v_e)\n",
    "print(final_v_i)\n",
    "\n",
    "#Tsiolkovsky equation: delv = u log(mf/m0)\n",
    "u = 250\n",
    "m0 = 0.25\n",
    "mf = 0.05\n",
    "delta_v = u * np.log(m0 / mf)\n",
    "print(delta_v)\n",
    "# ≈ 402.36 m/s"
   ]
  },
  {
   "cell_type": "code",
   "execution_count": 9,
   "id": "8f2b1eef",
   "metadata": {
    "ExecuteTime": {
     "end_time": "2025-06-25T02:29:22.337145Z",
     "start_time": "2025-06-25T02:29:21.180929Z"
    }
   },
   "outputs": [
    {
     "name": "stdout",
     "output_type": "stream",
     "text": [
      "[425.44318011  94.46534557  39.85641308  21.82304915  13.74012607\n",
      "   9.43772233   6.87960459   5.2362186    4.11830109   3.32358096]\n",
      "[425.44323754  94.46542924  39.85643914  21.82306009  13.74013162\n",
      "   9.43772551   6.87960657   5.23621993   4.11830201   3.32358164]\n"
     ]
    }
   ],
   "source": [
    "#extract final heights\n",
    "tstep = [1,2,3,4,5,6,7,8,9,10]\n",
    "final_h_e = np.zeros([len(tstep)])\n",
    "final_h_i = np.zeros([len(tstep)])\n",
    "\n",
    "for i in range(len(tstep)):\n",
    "    e_rk2 = integration(tstep[i])[0]\n",
    "    i_heun = integration(tstep[i])[1]\n",
    "    final_h_e[i] = e_rk2[-1,0]\n",
    "    final_h_i[i] = i_heun[-1,0]\n",
    "\n",
    "print(final_h_e)\n",
    "print(final_h_i)"
   ]
  },
  {
   "cell_type": "markdown",
   "id": "687c5893",
   "metadata": {},
   "source": [
    "**I cannot figure out why the integration does not converge as the time step decreases. I kept on workshopping with the learning coach but I kept on getting magnitudes lower than what the Tsiolkovsky equation predicts for the final velocity as I decrease the timestep. This is very frustrating but I need to move on to the next problem...**"
   ]
  },
  {
   "cell_type": "markdown",
   "id": "35e00d78",
   "metadata": {},
   "source": [
    "__3.__ Solve for the mass change rate that results in detonation at a height of 300 meters. Create a function `f_dm` that returns the final height of the firework when it reaches $m_{f}=0.05~kg$. The inputs should be \n",
    "\n",
    "$f_{m}= f_{m}(\\frac{dm}{dt},~parameters)$\n",
    "\n",
    "where $\\frac{dm}{dt}$ is the variable you are using to find a root and $parameters$ are the known values, `m0=0.25, c=0.18e-3, u=250`. When $f_{m}(\\frac{dm}{dt}) = 0$, you have found the correct root. \n",
    "\n",
    "Plot the height as a function of time and use a star to denote detonation at the correct height with a `'*'`-marker\n",
    "\n",
    "Approach the solution in two steps, use the incremental search\n",
    "[`incsearch`](../module_03/04_Getting_to_the_root) with 5-10\n",
    "sub-intervals _limit the number of times you call the\n",
    "function_. Then, use the modified secant method to find the true root of\n",
    "the function.\n",
    "\n",
    "a. Use the incremental search to find the two closest mass change rates within the interval $\\frac{dm}{dt}=0.05-0.4~kg/s.$\n",
    "\n",
    "b. Use the modified secant method to find the root of the function $f_{m}$.\n",
    "\n",
    "c. Plot your solution for the height as a function of time and indicate the detonation with a `*`-marker."
   ]
  },
  {
   "cell_type": "code",
   "execution_count": 10,
   "id": "5ff42e85",
   "metadata": {
    "ExecuteTime": {
     "end_time": "2025-06-25T02:29:22.347527Z",
     "start_time": "2025-06-25T02:29:22.340394Z"
    }
   },
   "outputs": [],
   "source": [
    "#From Lecture Readings########################################################\n",
    "\n",
    "def incsearch(func,xmin,xmax,ns=50):\n",
    "    '''incsearch: incremental search root locator\n",
    "    xb = incsearch(func,xmin,xmax,ns):\n",
    "      finds brackets of x that contain sign changes\n",
    "      of a function on an interval\n",
    "    arguments:\n",
    "    ---------\n",
    "    func = name of function\n",
    "    xmin, xmax = endpoints of interval\n",
    "    ns = number of subintervals (default = 50)\n",
    "    returns:\n",
    "    ---------\n",
    "    xb(k,1) is the lower bound of the kth sign change\n",
    "    xb(k,2) is the upper bound of the kth sign change\n",
    "    If no brackets found, xb = [].'''\n",
    "    x = np.linspace(xmin,xmax,ns)\n",
    "    f = func(x)\n",
    "    sign_f = np.sign(f)\n",
    "    delta_sign_f = sign_f[1:]-sign_f[0:-1]\n",
    "    i_zeros = np.nonzero(delta_sign_f!=0)\n",
    "    nb = len(i_zeros[0])\n",
    "    xb = np.block([[ x[i_zeros[0]+1]],[x[i_zeros[0]] ]] )\n",
    "\n",
    "    \n",
    "    if nb==0:\n",
    "        print('no brackets found\\n')\n",
    "        print('check interval or increase ns\\n')\n",
    "    else:\n",
    "        print('number of brackets:  {}\\n'.format(nb))\n",
    "    return xb\n",
    "\n",
    "##############################################################################\n",
    "\n",
    "def f_dm(dmdt, m0 = 0.25, c = 0.18e-3, u = 250):\n",
    "    ''' define a function f_dm(dmdt) that returns \n",
    "    height_desired-height_predicted[-1]\n",
    "    here, the time span is based upon the value of dmdt\n",
    "    \n",
    "    arguments:\n",
    "    ---------\n",
    "    dmdt: the unknown mass change rate\n",
    "    m0: the known initial mass\n",
    "    c: the known drag in kg/m\n",
    "    u: the known speed of the propellent\n",
    "    \n",
    "    returns:\n",
    "    --------\n",
    "    error: the difference between height_desired and height_predicted[-1]\n",
    "        when f_dm(dmdt) = 0, the correct mass change rate was chosen\n",
    "    '''\n",
    "    # your work\n",
    "    height_predicted = 300\n",
    "    dmdt = incsearch(rocket, 0.05, 0.4, ns=5)\n",
    "    \n",
    "    \n",
    "    return error"
   ]
  },
  {
   "cell_type": "code",
   "execution_count": 11,
   "id": "8fabad67",
   "metadata": {
    "ExecuteTime": {
     "end_time": "2025-06-25T02:29:22.363021Z",
     "start_time": "2025-06-25T02:29:22.350350Z"
    }
   },
   "outputs": [],
   "source": [
    "def mod_secant(func,dx,x0,es=0.0001,maxit=50):\n",
    "    '''mod_secant: Modified secant root location zeroes\n",
    "    root,[fx,ea,iter]=mod_secant(func,dfunc,xr,es,maxit,p1,p2,...):\n",
    "    uses modified secant method to find the root of func\n",
    "    arguments:\n",
    "    ----------\n",
    "    func = name of function\n",
    "    dx = perturbation fraction\n",
    "    xr = initial guess\n",
    "    es = desired relative error (default = 0.0001 )\n",
    "    maxit = maximum allowable iterations (default = 50)\n",
    "    p1,p2,... = additional parameters used by function\n",
    "    returns:\n",
    "    --------\n",
    "    root = real root\n",
    "    fx = func evaluated at root\n",
    "    ea = approximate relative error ( )\n",
    "    iter = number of iterations'''\n",
    "\n",
    "    iter = 0;\n",
    "    xr=x0\n",
    "    for iter in range(0,maxit):\n",
    "        xrold = xr;\n",
    "        dfunc=(func(xr+dx)-func(xr))/dx;\n",
    "        xr = xr - func(xr)/dfunc;\n",
    "        if xr != 0:\n",
    "            ea = abs((xr - xrold)/xr) * 100;\n",
    "        else:\n",
    "            ea = abs((xr - xrold)/1) * 100;\n",
    "        if ea <= es:\n",
    "            break\n",
    "    return xr,[func(xr),ea,iter]"
   ]
  },
  {
   "cell_type": "markdown",
   "id": "089f9f16",
   "metadata": {},
   "source": [
    "## References\n",
    "\n",
    "1. Math 24 _Rocket Motion_. <https://www.math24.net/rocket-motion/\\>\n",
    "\n",
    "2. Kasdin and Paley. _Engineering Dynamics_. [ch 6-Linear Momentum of a Multiparticle System pp234-235](https://www.jstor.org/stable/j.ctvcm4ggj.9) Princeton University Press \n",
    "\n",
    "3. <https://en.wikipedia.org/wiki/Specific_impulse>\n",
    "\n",
    "4. <https://www.apogeerockets.com/Rocket_Motors/Estes_Motors/13mm_Motors/Estes_13mm_1_4A3-3T>"
   ]
  }
 ],
 "metadata": {
  "jupytext": {
   "formats": "notebooks//ipynb,md:myst"
  },
  "kernelspec": {
   "display_name": "Python 3.8",
   "language": "python",
   "name": "python3"
  },
  "language_info": {
   "codemirror_mode": {
    "name": "ipython",
    "version": 3
   },
   "file_extension": ".py",
   "mimetype": "text/x-python",
   "name": "python",
   "nbconvert_exporter": "python",
   "pygments_lexer": "ipython3",
   "version": "3.8.10"
  },
  "toc": {
   "base_numbering": 1,
   "nav_menu": {},
   "number_sections": true,
   "sideBar": true,
   "skip_h1_title": false,
   "title_cell": "Table of Contents",
   "title_sidebar": "Contents",
   "toc_cell": false,
   "toc_position": {},
   "toc_section_display": true,
   "toc_window_display": false
  },
  "varInspector": {
   "cols": {
    "lenName": 16,
    "lenType": 16,
    "lenVar": 40
   },
   "kernels_config": {
    "python": {
     "delete_cmd_postfix": "",
     "delete_cmd_prefix": "del ",
     "library": "var_list.py",
     "varRefreshCmd": "print(var_dic_list())"
    },
    "r": {
     "delete_cmd_postfix": ") ",
     "delete_cmd_prefix": "rm(",
     "library": "var_list.r",
     "varRefreshCmd": "cat(var_dic_list()) "
    }
   },
   "types_to_exclude": [
    "module",
    "function",
    "builtin_function_or_method",
    "instance",
    "_Feature"
   ],
   "window_display": false
  }
 },
 "nbformat": 4,
 "nbformat_minor": 5
}
